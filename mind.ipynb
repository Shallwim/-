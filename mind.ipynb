{
 "cells": [
  {
   "cell_type": "code",
   "execution_count": 5,
   "metadata": {
    "collapsed": true
   },
   "outputs": [],
   "source": [
    "import pandas as pd\n",
    "import numpy as np"
   ]
  },
  {
   "cell_type": "markdown",
   "metadata": {},
   "source": [
    "营养素的库存管理复杂，经手人多，账套混乱，操作原始。核对起来相当痛苦。\n",
    "现在我来理一下思路。\n",
    "首先，营养素有住院部和服务部2个部门在同时售卖。\n",
    "住院部的库存在食堂仓库，需要人工清点。服务部的库存在服务部，需要人工清点。\n",
    "\n",
    "首先，营养素的管理有两个系统。\n",
    "## 总系统：百威进销存系统\n",
    "百威进销存系统记录库存，这个系统减去当天服务部售卖的营养素，但是住院部售卖的营养素需要到月底根据手工统计减去。\n",
    "### 医院的记账系统 \n",
    "医院的记账系统只记录住院部的售卖情况。不记录库存。\n",
    "住院部的工作除我以外还有两人参与：\n",
    "\n",
    "住院部订单员：下达订单，通知仓库管理员来取货。自己维护一张订单表格\n",
    "\n",
    "仓库管理员：接到通知时在当日内取货。并计入医院的记账系统\n",
    "#### 出错可能\n",
    "食堂管理员少拿错拿营养素，记错帐\n",
    "#### 开发功能需求\n",
    "定期核对前一日食堂管理员的医院帐和订单员维护的帐\n",
    "### 服务部的记账方法 \n",
    "服务部的帐月末结入百威系统，当月售卖\n",
    "#### 出错可能\n",
    "服务部在系统内记账，记漏记错\n",
    "#### 开发功能需求\n",
    "记录服务部每日库存差和挂账是否相等\n",
    "\n",
    "#### 综合需求\n",
    "昨日百威进销存系统的结存数量 = 仓库库存+服务部库存+服务部挂账+核对后的住院部订单\n",
    "## 库存管理：\n",
    "\n",
    "### 入库：\n",
    "入库由我报数量下订单给采购员，采购员送货后。服务部将其录入。由于服务部有退货可能，所以需在服务部验收后将数量报给我。\n",
    "### 借调\n",
    "服务部库存不够时，由我向食堂调货。这时，需在系统内调整库存。\n",
    "## 保质期管理：\n",
    "没想好怎么管，各种批号的营养素掺在一起 麻烦炸了先记录下来 功能保留 （概率论）\n",
    "## 回溯查询：\n",
    "要有每次查询要有历史记录，可以随时回档。使用git进行版本管理\n",
    "## 使用场景\n",
    "每天早上\n",
    "我：核对订单员和医院记账系统是否对应\n",
    "系统：读取订单员表格 数据清洗整理 统计出每天每个品卖出几个 去记账系统看\n",
    "我：准备一张表，填入核对日期，入库量，失效日期，百威结存数量，仓库库存，服务部库存（允许填不变），昨日借调数量，服务部挂账，住院部售卖数量\n",
    "系统：核对数据，提示出错商品错了几个。并更新明天的表格\n",
    "我：git add git commit git push\n",
    "\n"
   ]
  },
  {
   "cell_type": "code",
   "execution_count": null,
   "metadata": {
    "collapsed": true
   },
   "outputs": [],
   "source": []
  },
  {
   "cell_type": "code",
   "execution_count": 4,
   "metadata": {
    "collapsed": false
   },
   "outputs": [
    {
     "data": {
      "text/html": [
       "<div>\n",
       "<table border=\"1\" class=\"dataframe\">\n",
       "  <thead>\n",
       "    <tr style=\"text-align: right;\">\n",
       "      <th></th>\n",
       "      <th>RQDB</th>\n",
       "      <th>1</th>\n",
       "      <th>0</th>\n",
       "    </tr>\n",
       "  </thead>\n",
       "  <tbody>\n",
       "    <tr>\n",
       "      <th>0</th>\n",
       "      <td>YZS</td>\n",
       "      <td>2</td>\n",
       "      <td>1</td>\n",
       "    </tr>\n",
       "    <tr>\n",
       "      <th>1</th>\n",
       "      <td>YTS</td>\n",
       "      <td>3</td>\n",
       "      <td>1</td>\n",
       "    </tr>\n",
       "    <tr>\n",
       "      <th>2</th>\n",
       "      <td>YNS</td>\n",
       "      <td>4</td>\n",
       "      <td>1</td>\n",
       "    </tr>\n",
       "    <tr>\n",
       "      <th>3</th>\n",
       "      <td>YQS</td>\n",
       "      <td>4</td>\n",
       "      <td>1</td>\n",
       "    </tr>\n",
       "    <tr>\n",
       "      <th>4</th>\n",
       "      <td>YDS</td>\n",
       "      <td>6</td>\n",
       "      <td>2</td>\n",
       "    </tr>\n",
       "    <tr>\n",
       "      <th>5</th>\n",
       "      <td>YJS</td>\n",
       "      <td>7</td>\n",
       "      <td>1</td>\n",
       "    </tr>\n",
       "    <tr>\n",
       "      <th>6</th>\n",
       "      <td>YMZ</td>\n",
       "      <td>8</td>\n",
       "      <td>1</td>\n",
       "    </tr>\n",
       "    <tr>\n",
       "      <th>7</th>\n",
       "      <td>YMS</td>\n",
       "      <td>9</td>\n",
       "      <td>1</td>\n",
       "    </tr>\n",
       "  </tbody>\n",
       "</table>\n",
       "</div>"
      ],
      "text/plain": [
       "  RQDB  1  0\n",
       "0  YZS  2  1\n",
       "1  YTS  3  1\n",
       "2  YNS  4  1\n",
       "3  YQS  4  1\n",
       "4  YDS  6  2\n",
       "5  YJS  7  1\n",
       "6  YMZ  8  1\n",
       "7  YMS  9  1"
      ]
     },
     "execution_count": 4,
     "metadata": {},
     "output_type": "execute_result"
    }
   ],
   "source": [
    "df = pd.read_csv('inventory_count.csv')\n",
    "df"
   ]
  }
 ],
 "metadata": {
  "anaconda-cloud": {},
  "kernelspec": {
   "display_name": "Python [default]",
   "language": "python",
   "name": "python3"
  },
  "language_info": {
   "codemirror_mode": {
    "name": "ipython",
    "version": 3
   },
   "file_extension": ".py",
   "mimetype": "text/x-python",
   "name": "python",
   "nbconvert_exporter": "python",
   "pygments_lexer": "ipython3",
   "version": "3.5.2"
  }
 },
 "nbformat": 4,
 "nbformat_minor": 1
}
